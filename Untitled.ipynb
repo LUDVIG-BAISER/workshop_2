{
 "cells": [
  {
   "cell_type": "code",
   "execution_count": 2,
   "id": "8ecb8c9e-df77-4a0e-9b4e-7f9b312304f7",
   "metadata": {},
   "outputs": [],
   "source": [
    "import math"
   ]
  },
  {
   "cell_type": "code",
   "execution_count": 1,
   "id": "6f0b8e8e-400b-43cb-be66-5d24597a807e",
   "metadata": {},
   "outputs": [],
   "source": [
    "n =20\n",
    "k =4\n",
    "\n",
    "a = 19\n",
    "b = 3"
   ]
  },
  {
   "cell_type": "code",
   "execution_count": 8,
   "id": "bcb226d9-4bcb-4b69-b353-e22b4cd0e9c9",
   "metadata": {},
   "outputs": [
    {
     "data": {
      "text/plain": [
       "4845.0"
      ]
     },
     "execution_count": 8,
     "metadata": {},
     "output_type": "execute_result"
    }
   ],
   "source": [
    "math.factorial(n) / (math.factorial(k)*math.factorial(n-k))"
   ]
  },
  {
   "cell_type": "code",
   "execution_count": 9,
   "id": "ca72eeee-29d4-4431-8683-a15871d28d64",
   "metadata": {},
   "outputs": [
    {
     "data": {
      "text/plain": [
       "969.0"
      ]
     },
     "execution_count": 9,
     "metadata": {},
     "output_type": "execute_result"
    }
   ],
   "source": [
    "math.factorial(a) / (math.factorial(b)*math.factorial(a-b))"
   ]
  },
  {
   "cell_type": "code",
   "execution_count": 7,
   "id": "7ffe5de3-eb05-48f5-b4b6-f8ecfadd7ebd",
   "metadata": {},
   "outputs": [
    {
     "name": "stdout",
     "output_type": "stream",
     "text": [
      "4845\n"
     ]
    }
   ],
   "source": [
    "import math  \n",
    "print(math.comb(20, 4))  # 10 (сочетания C(5,2))  \n"
   ]
  },
  {
   "cell_type": "code",
   "execution_count": null,
   "id": "9849b506-8ada-4b36-978a-4474bbc9a91c",
   "metadata": {},
   "outputs": [],
   "source": []
  }
 ],
 "metadata": {
  "kernelspec": {
   "display_name": "Python 3 (ipykernel)",
   "language": "python",
   "name": "python3"
  },
  "language_info": {
   "codemirror_mode": {
    "name": "ipython",
    "version": 3
   },
   "file_extension": ".py",
   "mimetype": "text/x-python",
   "name": "python",
   "nbconvert_exporter": "python",
   "pygments_lexer": "ipython3",
   "version": "3.12.8"
  }
 },
 "nbformat": 4,
 "nbformat_minor": 5
}
